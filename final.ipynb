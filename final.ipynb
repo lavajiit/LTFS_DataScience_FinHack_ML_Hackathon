{
 "cells": [
  {
   "cell_type": "code",
   "execution_count": 194,
   "metadata": {},
   "outputs": [],
   "source": [
    "from datetime import timedelta\n",
    "import pandas as pd\n",
    "import numpy as np\n",
    "import scipy.stats as ss\n",
    "import re\n",
    "import matplotlib.pyplot as plt\n",
    "import seaborn as sns\n",
    "from sklearn.preprocessing import LabelEncoder\n",
    "from sklearn.metrics import roc_curve, roc_auc_score\n",
    "from sklearn.model_selection import train_test_split, cross_val_score, GridSearchCV\n",
    "from sklearn.linear_model import LogisticRegression\n",
    "from sklearn.tree import DecisionTreeClassifier\n",
    "from sklearn.ensemble import RandomForestClassifier\n",
    "import xgboost as xgb"
   ]
  },
  {
   "cell_type": "code",
   "execution_count": null,
   "metadata": {},
   "outputs": [],
   "source": [
    "# read the file\n",
    "train = pd.read_csv('/home/f/DS/Compete/L&T_Fin_Hack/train_aox2Jxw/train.csv')\n",
    "test = pd.read_csv('/home/f/DS/Compete/L&T_Fin_Hack/test_bqCt9Pv.csv')"
   ]
  },
  {
   "cell_type": "code",
   "execution_count": 162,
   "metadata": {},
   "outputs": [],
   "source": [
    "# comibne train and test data\n",
    "train['source'] = 'train'\n",
    "test['source'] = 'test'\n",
    "df = pd.concat([train, test], ignore_index=True, sort=False)"
   ]
  },
  {
   "cell_type": "code",
   "execution_count": 163,
   "metadata": {},
   "outputs": [
    {
     "data": {
      "text/html": [
       "<div>\n",
       "<style scoped>\n",
       "    .dataframe tbody tr th:only-of-type {\n",
       "        vertical-align: middle;\n",
       "    }\n",
       "\n",
       "    .dataframe tbody tr th {\n",
       "        vertical-align: top;\n",
       "    }\n",
       "\n",
       "    .dataframe thead th {\n",
       "        text-align: right;\n",
       "    }\n",
       "</style>\n",
       "<table border=\"1\" class=\"dataframe\">\n",
       "  <thead>\n",
       "    <tr style=\"text-align: right;\">\n",
       "      <th></th>\n",
       "      <th>UniqueID</th>\n",
       "      <th>disbursed_amount</th>\n",
       "      <th>asset_cost</th>\n",
       "      <th>ltv</th>\n",
       "      <th>branch_id</th>\n",
       "      <th>supplier_id</th>\n",
       "      <th>manufacturer_id</th>\n",
       "      <th>Current_pincode_ID</th>\n",
       "      <th>Date.of.Birth</th>\n",
       "      <th>Employment.Type</th>\n",
       "      <th>...</th>\n",
       "      <th>SEC.DISBURSED.AMOUNT</th>\n",
       "      <th>PRIMARY.INSTAL.AMT</th>\n",
       "      <th>SEC.INSTAL.AMT</th>\n",
       "      <th>NEW.ACCTS.IN.LAST.SIX.MONTHS</th>\n",
       "      <th>DELINQUENT.ACCTS.IN.LAST.SIX.MONTHS</th>\n",
       "      <th>AVERAGE.ACCT.AGE</th>\n",
       "      <th>CREDIT.HISTORY.LENGTH</th>\n",
       "      <th>NO.OF_INQUIRIES</th>\n",
       "      <th>loan_default</th>\n",
       "      <th>source</th>\n",
       "    </tr>\n",
       "  </thead>\n",
       "  <tbody>\n",
       "    <tr>\n",
       "      <th>0</th>\n",
       "      <td>420825</td>\n",
       "      <td>50578</td>\n",
       "      <td>58400</td>\n",
       "      <td>89.55</td>\n",
       "      <td>67</td>\n",
       "      <td>22807</td>\n",
       "      <td>45</td>\n",
       "      <td>1441</td>\n",
       "      <td>01-01-84</td>\n",
       "      <td>Salaried</td>\n",
       "      <td>...</td>\n",
       "      <td>0</td>\n",
       "      <td>0</td>\n",
       "      <td>0</td>\n",
       "      <td>0</td>\n",
       "      <td>0</td>\n",
       "      <td>0yrs 0mon</td>\n",
       "      <td>0yrs 0mon</td>\n",
       "      <td>0</td>\n",
       "      <td>0.0</td>\n",
       "      <td>train</td>\n",
       "    </tr>\n",
       "    <tr>\n",
       "      <th>1</th>\n",
       "      <td>537409</td>\n",
       "      <td>47145</td>\n",
       "      <td>65550</td>\n",
       "      <td>73.23</td>\n",
       "      <td>67</td>\n",
       "      <td>22807</td>\n",
       "      <td>45</td>\n",
       "      <td>1502</td>\n",
       "      <td>31-07-85</td>\n",
       "      <td>Self employed</td>\n",
       "      <td>...</td>\n",
       "      <td>0</td>\n",
       "      <td>1991</td>\n",
       "      <td>0</td>\n",
       "      <td>0</td>\n",
       "      <td>1</td>\n",
       "      <td>1yrs 11mon</td>\n",
       "      <td>1yrs 11mon</td>\n",
       "      <td>0</td>\n",
       "      <td>1.0</td>\n",
       "      <td>train</td>\n",
       "    </tr>\n",
       "    <tr>\n",
       "      <th>2</th>\n",
       "      <td>417566</td>\n",
       "      <td>53278</td>\n",
       "      <td>61360</td>\n",
       "      <td>89.63</td>\n",
       "      <td>67</td>\n",
       "      <td>22807</td>\n",
       "      <td>45</td>\n",
       "      <td>1497</td>\n",
       "      <td>24-08-85</td>\n",
       "      <td>Self employed</td>\n",
       "      <td>...</td>\n",
       "      <td>0</td>\n",
       "      <td>0</td>\n",
       "      <td>0</td>\n",
       "      <td>0</td>\n",
       "      <td>0</td>\n",
       "      <td>0yrs 0mon</td>\n",
       "      <td>0yrs 0mon</td>\n",
       "      <td>0</td>\n",
       "      <td>0.0</td>\n",
       "      <td>train</td>\n",
       "    </tr>\n",
       "    <tr>\n",
       "      <th>3</th>\n",
       "      <td>624493</td>\n",
       "      <td>57513</td>\n",
       "      <td>66113</td>\n",
       "      <td>88.48</td>\n",
       "      <td>67</td>\n",
       "      <td>22807</td>\n",
       "      <td>45</td>\n",
       "      <td>1501</td>\n",
       "      <td>30-12-93</td>\n",
       "      <td>Self employed</td>\n",
       "      <td>...</td>\n",
       "      <td>0</td>\n",
       "      <td>31</td>\n",
       "      <td>0</td>\n",
       "      <td>0</td>\n",
       "      <td>0</td>\n",
       "      <td>0yrs 8mon</td>\n",
       "      <td>1yrs 3mon</td>\n",
       "      <td>1</td>\n",
       "      <td>1.0</td>\n",
       "      <td>train</td>\n",
       "    </tr>\n",
       "    <tr>\n",
       "      <th>4</th>\n",
       "      <td>539055</td>\n",
       "      <td>52378</td>\n",
       "      <td>60300</td>\n",
       "      <td>88.39</td>\n",
       "      <td>67</td>\n",
       "      <td>22807</td>\n",
       "      <td>45</td>\n",
       "      <td>1495</td>\n",
       "      <td>09-12-77</td>\n",
       "      <td>Self employed</td>\n",
       "      <td>...</td>\n",
       "      <td>0</td>\n",
       "      <td>0</td>\n",
       "      <td>0</td>\n",
       "      <td>0</td>\n",
       "      <td>0</td>\n",
       "      <td>0yrs 0mon</td>\n",
       "      <td>0yrs 0mon</td>\n",
       "      <td>1</td>\n",
       "      <td>1.0</td>\n",
       "      <td>train</td>\n",
       "    </tr>\n",
       "  </tbody>\n",
       "</table>\n",
       "<p>5 rows × 42 columns</p>\n",
       "</div>"
      ],
      "text/plain": [
       "   UniqueID  disbursed_amount  asset_cost    ltv  branch_id  supplier_id  \\\n",
       "0    420825             50578       58400  89.55         67        22807   \n",
       "1    537409             47145       65550  73.23         67        22807   \n",
       "2    417566             53278       61360  89.63         67        22807   \n",
       "3    624493             57513       66113  88.48         67        22807   \n",
       "4    539055             52378       60300  88.39         67        22807   \n",
       "\n",
       "   manufacturer_id  Current_pincode_ID Date.of.Birth Employment.Type  ...  \\\n",
       "0               45                1441      01-01-84        Salaried  ...   \n",
       "1               45                1502      31-07-85   Self employed  ...   \n",
       "2               45                1497      24-08-85   Self employed  ...   \n",
       "3               45                1501      30-12-93   Self employed  ...   \n",
       "4               45                1495      09-12-77   Self employed  ...   \n",
       "\n",
       "  SEC.DISBURSED.AMOUNT  PRIMARY.INSTAL.AMT  SEC.INSTAL.AMT  \\\n",
       "0                    0                   0               0   \n",
       "1                    0                1991               0   \n",
       "2                    0                   0               0   \n",
       "3                    0                  31               0   \n",
       "4                    0                   0               0   \n",
       "\n",
       "   NEW.ACCTS.IN.LAST.SIX.MONTHS  DELINQUENT.ACCTS.IN.LAST.SIX.MONTHS  \\\n",
       "0                             0                                    0   \n",
       "1                             0                                    1   \n",
       "2                             0                                    0   \n",
       "3                             0                                    0   \n",
       "4                             0                                    0   \n",
       "\n",
       "   AVERAGE.ACCT.AGE  CREDIT.HISTORY.LENGTH  NO.OF_INQUIRIES  loan_default  \\\n",
       "0         0yrs 0mon              0yrs 0mon                0           0.0   \n",
       "1        1yrs 11mon             1yrs 11mon                0           1.0   \n",
       "2         0yrs 0mon              0yrs 0mon                0           0.0   \n",
       "3         0yrs 8mon              1yrs 3mon                1           1.0   \n",
       "4         0yrs 0mon              0yrs 0mon                1           1.0   \n",
       "\n",
       "   source  \n",
       "0   train  \n",
       "1   train  \n",
       "2   train  \n",
       "3   train  \n",
       "4   train  \n",
       "\n",
       "[5 rows x 42 columns]"
      ]
     },
     "execution_count": 163,
     "metadata": {},
     "output_type": "execute_result"
    }
   ],
   "source": [
    "df.head()"
   ]
  },
  {
   "cell_type": "code",
   "execution_count": 164,
   "metadata": {},
   "outputs": [
    {
     "data": {
      "text/html": [
       "<div>\n",
       "<style scoped>\n",
       "    .dataframe tbody tr th:only-of-type {\n",
       "        vertical-align: middle;\n",
       "    }\n",
       "\n",
       "    .dataframe tbody tr th {\n",
       "        vertical-align: top;\n",
       "    }\n",
       "\n",
       "    .dataframe thead th {\n",
       "        text-align: right;\n",
       "    }\n",
       "</style>\n",
       "<table border=\"1\" class=\"dataframe\">\n",
       "  <thead>\n",
       "    <tr style=\"text-align: right;\">\n",
       "      <th></th>\n",
       "      <th>column_name</th>\n",
       "      <th>missing_count</th>\n",
       "      <th>missing_perc</th>\n",
       "    </tr>\n",
       "  </thead>\n",
       "  <tbody>\n",
       "    <tr>\n",
       "      <th>9</th>\n",
       "      <td>Employment.Type</td>\n",
       "      <td>11104</td>\n",
       "      <td>3.213465</td>\n",
       "    </tr>\n",
       "    <tr>\n",
       "      <th>40</th>\n",
       "      <td>loan_default</td>\n",
       "      <td>112392</td>\n",
       "      <td>32.525916</td>\n",
       "    </tr>\n",
       "  </tbody>\n",
       "</table>\n",
       "</div>"
      ],
      "text/plain": [
       "        column_name  missing_count  missing_perc\n",
       "9   Employment.Type          11104      3.213465\n",
       "40     loan_default         112392     32.525916"
      ]
     },
     "execution_count": 164,
     "metadata": {},
     "output_type": "execute_result"
    }
   ],
   "source": [
    "def count_missing(df):\n",
    "    missing_df = df.isnull().sum().reset_index()\n",
    "    missing_df.columns = ['column_name', 'missing_count']\n",
    "    missing_df = missing_df[missing_df['missing_count']>0]\n",
    "    missing_df['missing_perc'] = missing_df['missing_count']/df.shape[0]*100\n",
    "    missing_df = missing_df.sort_values(by='missing_count')\n",
    "    return missing_df\n",
    "\n",
    "count_missing(df)"
   ]
  },
  {
   "cell_type": "code",
   "execution_count": 165,
   "metadata": {},
   "outputs": [
    {
     "data": {
      "text/html": [
       "<div>\n",
       "<style scoped>\n",
       "    .dataframe tbody tr th:only-of-type {\n",
       "        vertical-align: middle;\n",
       "    }\n",
       "\n",
       "    .dataframe tbody tr th {\n",
       "        vertical-align: top;\n",
       "    }\n",
       "\n",
       "    .dataframe thead th {\n",
       "        text-align: right;\n",
       "    }\n",
       "</style>\n",
       "<table border=\"1\" class=\"dataframe\">\n",
       "  <thead>\n",
       "    <tr style=\"text-align: right;\">\n",
       "      <th></th>\n",
       "      <th>column_name</th>\n",
       "      <th>missing_count</th>\n",
       "      <th>missing_perc</th>\n",
       "    </tr>\n",
       "  </thead>\n",
       "  <tbody>\n",
       "    <tr>\n",
       "      <th>9</th>\n",
       "      <td>Employment.Type</td>\n",
       "      <td>7661</td>\n",
       "      <td>3.285811</td>\n",
       "    </tr>\n",
       "  </tbody>\n",
       "</table>\n",
       "</div>"
      ],
      "text/plain": [
       "       column_name  missing_count  missing_perc\n",
       "9  Employment.Type           7661      3.285811"
      ]
     },
     "execution_count": 165,
     "metadata": {},
     "output_type": "execute_result"
    }
   ],
   "source": [
    "count_missing(train)"
   ]
  },
  {
   "cell_type": "code",
   "execution_count": 166,
   "metadata": {},
   "outputs": [],
   "source": [
    "drop_cols = ['UniqueID']"
   ]
  },
  {
   "cell_type": "code",
   "execution_count": 167,
   "metadata": {},
   "outputs": [],
   "source": [
    "df['disbursed__asset'] = df['asset_cost'] - df['disbursed_amount']"
   ]
  },
  {
   "cell_type": "code",
   "execution_count": 168,
   "metadata": {},
   "outputs": [],
   "source": [
    "# age of applicant on disbursal date\n",
    "df['DisbursalDate'] = pd.to_datetime(df['DisbursalDate'])\n",
    "df['Date.of.Birth'] = pd.to_datetime(df['Date.of.Birth'])\n",
    "\n",
    "df['DisbursalDate_year'] = df['DisbursalDate'].dt.year"
   ]
  },
  {
   "cell_type": "code",
   "execution_count": 169,
   "metadata": {},
   "outputs": [],
   "source": [
    "df['DisbursalDate_quarter'] = df['DisbursalDate'].dt.quarter"
   ]
  },
  {
   "cell_type": "code",
   "execution_count": 170,
   "metadata": {},
   "outputs": [],
   "source": [
    "df['DisbursalDate_weekday'] = df['DisbursalDate'].dt.weekday"
   ]
  },
  {
   "cell_type": "code",
   "execution_count": 171,
   "metadata": {},
   "outputs": [],
   "source": [
    "df['age_in_days'] = df['DisbursalDate'] - df['Date.of.Birth']\n",
    "df['age_in_years'] = df[\"age_in_days\"] / timedelta(days=365)\n",
    "df['age_in_years'] = df['age_in_years'].astype('float')"
   ]
  },
  {
   "cell_type": "code",
   "execution_count": 172,
   "metadata": {},
   "outputs": [],
   "source": [
    "drop_cols = drop_cols + ['DisbursalDate', 'Date.of.Birth', 'DisbursalDate_year', 'age_in_days']"
   ]
  },
  {
   "cell_type": "code",
   "execution_count": 173,
   "metadata": {},
   "outputs": [],
   "source": [
    "drop_cols.append('MobileNo_Avl_Flag')"
   ]
  },
  {
   "cell_type": "code",
   "execution_count": 174,
   "metadata": {},
   "outputs": [],
   "source": [
    "df['PERFORM_CNS.SCORE.DESCRIPTION'] = df['PERFORM_CNS.SCORE.DESCRIPTION'].map({'A-Very Low Risk' : 'very_low',\n",
    "                                                                               'B-Very Low Risk' : 'very_low',\n",
    "                                                                               'C-Very Low Risk' : 'very_low',\n",
    "                                                                               'D-Very Low Risk' : 'very_low',\n",
    "                                                                               'E-Low Risk'      : 'low',\n",
    "                                                                               'F-Low Risk'      : 'low',\n",
    "                                                                               'G-Low Risk'      : 'low',\n",
    "                                                                               'H-Medium Risk'   : 'medium',\n",
    "                                                                               'I-Medium Risk'   : 'medium',\n",
    "                                                                               'J-High Risk'     : 'high',\n",
    "                                                                               'K-High Risk'     : 'high',\n",
    "                                                                               'L-Very High Risk': 'very_high',\n",
    "                                                                               'M-Very High Risk': 'very_high',\n",
    "                                                                               'Not Scored: Sufficient History Not Available'           : 'not_scored',\n",
    "                                                                               'Not Scored: Not Enough Info available on the customer'  : 'not_scored',\n",
    "                                                                               'Not Scored: No Activity seen on the customer (Inactive)': 'not_scored',\n",
    "                                                                               'Not Scored: No Updates available in last 36 months'     : 'not_scored',\n",
    "                                                                               'Not Scored: Only a Guarantor'                           : 'not_scored',\n",
    "                                                                               'Not Scored: More than 50 active Accounts found'         : 'not_scored',\n",
    "                                                                               'No Bureau History Available'                            : 'not_scored'\n",
    "                                                                              })"
   ]
  },
  {
   "cell_type": "code",
   "execution_count": 175,
   "metadata": {},
   "outputs": [],
   "source": [
    "df['total.NO.OF.ACCTS'] = df['PRI.NO.OF.ACCTS'] + df['SEC.NO.OF.ACCTS']\n",
    "df['total.ACTIVE.ACCTS'] = df['PRI.ACTIVE.ACCTS'] + df['SEC.ACTIVE.ACCTS']\n",
    "df['total.OVERDUE.ACCTS'] = df['PRI.OVERDUE.ACCTS'] + df['SEC.OVERDUE.ACCTS']\n",
    "df['total.CURRENT.BALANCE'] = df['PRI.CURRENT.BALANCE'] + df['SEC.CURRENT.BALANCE']\n",
    "df['total.SANCTIONED.AMOUNT'] = df['PRI.SANCTIONED.AMOUNT'] + df['SEC.SANCTIONED.AMOUNT']\n",
    "df['total.DISBURSED.AMOUNT'] = df['PRI.DISBURSED.AMOUNT'] + df['SEC.DISBURSED.AMOUNT']\n",
    "df['total.INSTAL.AMT'] = df['PRIMARY.INSTAL.AMT'] + df['SEC.INSTAL.AMT']"
   ]
  },
  {
   "cell_type": "code",
   "execution_count": 176,
   "metadata": {},
   "outputs": [],
   "source": [
    "df['total.DEACT.ACCTS'] = df['total.NO.OF.ACCTS'] + df['total.ACTIVE.ACCTS']"
   ]
  },
  {
   "cell_type": "code",
   "execution_count": 177,
   "metadata": {},
   "outputs": [],
   "source": [
    "df['NON_DELINQUENT.ACCTS.IN.LAST.SIX.MONTHS'] = df['NEW.ACCTS.IN.LAST.SIX.MONTHS'] + df['DELINQUENT.ACCTS.IN.LAST.SIX.MONTHS']"
   ]
  },
  {
   "cell_type": "code",
   "execution_count": 178,
   "metadata": {},
   "outputs": [],
   "source": [
    "df['total.SANC_diff_DISB'] = df['total.SANCTIONED.AMOUNT'] - df['total.DISBURSED.AMOUNT']"
   ]
  },
  {
   "cell_type": "code",
   "execution_count": 179,
   "metadata": {},
   "outputs": [],
   "source": [
    "df['total_flag'] = df['Driving_flag'] + df['Aadhar_flag'] + df['PAN_flag'] + df['Passport_flag'] + df['VoterID_flag']"
   ]
  },
  {
   "cell_type": "code",
   "execution_count": 180,
   "metadata": {},
   "outputs": [
    {
     "data": {
      "text/plain": [
       "25"
      ]
     },
     "execution_count": 180,
     "metadata": {},
     "output_type": "execute_result"
    }
   ],
   "source": [
    "def to_months(text):\n",
    "    s = re.findall(r'\\d+', text)    \n",
    "    months = int(s[0])*12 + int(s[1])\n",
    "    return months\n",
    "to_months('2yrs 1mon')"
   ]
  },
  {
   "cell_type": "code",
   "execution_count": 181,
   "metadata": {},
   "outputs": [],
   "source": [
    "df['CREDIT.HISTORY.LENGTH'] = df['CREDIT.HISTORY.LENGTH'].apply(to_months).astype('float')\n",
    "df['AVERAGE.ACCT.AGE'] = df['AVERAGE.ACCT.AGE'].apply(to_months).astype('float')"
   ]
  },
  {
   "cell_type": "code",
   "execution_count": 182,
   "metadata": {},
   "outputs": [],
   "source": [
    "df['Current_pincode_ID'] = df['Current_pincode_ID'].astype(np.object)\n",
    "df['Employee_code_ID'] = df['Employee_code_ID'].astype(np.object)\n",
    "df['State_ID'] = df['State_ID'].astype(np.object)\n",
    "df['branch_id'] = df['branch_id'].astype(np.object)\n",
    "df['manufacturer_id'] = df['manufacturer_id'].astype(np.object)\n",
    "df['supplier_id'] = df['supplier_id'].astype(np.object)"
   ]
  },
  {
   "cell_type": "code",
   "execution_count": 189,
   "metadata": {},
   "outputs": [],
   "source": [
    "data_train = df.loc[df.source=='train']\n",
    "data_test = df.loc[df.source=='test']\n",
    "\n",
    "target = 'loan_default'\n",
    "predictors = [x for x in data_train.columns if x not in drop_cols+[target]+['source']]\n",
    "dummify = ['DisbursalDate_quarter', 'DisbursalDate_weekday', 'Employment.Type', 'PERFORM_CNS.SCORE.DESCRIPTION']\n",
    "\n",
    "X = data_train[predictors]\n",
    "X = pd.get_dummies(X, columns=dummify)\n",
    "y = data_train[target]\n",
    "X_train, X_test, y_train, y_test = train_test_split(X, y, test_size=0.2)"
   ]
  },
  {
   "cell_type": "code",
   "execution_count": 200,
   "metadata": {},
   "outputs": [
    {
     "name": "stdout",
     "output_type": "stream",
     "text": [
      "[0]\ttrain-auc:0.6144\tvalid-auc:0.609122\n",
      "Multiple eval metrics have been passed: 'valid-auc' will be used for early stopping.\n",
      "\n",
      "Will train until valid-auc hasn't improved in 10 rounds.\n",
      "[20]\ttrain-auc:0.647391\tvalid-auc:0.641898\n",
      "[40]\ttrain-auc:0.655804\tvalid-auc:0.648382\n",
      "[60]\ttrain-auc:0.662306\tvalid-auc:0.65245\n",
      "[80]\ttrain-auc:0.667512\tvalid-auc:0.655138\n",
      "[100]\ttrain-auc:0.672457\tvalid-auc:0.657611\n",
      "[120]\ttrain-auc:0.676201\tvalid-auc:0.658993\n",
      "[140]\ttrain-auc:0.679476\tvalid-auc:0.660432\n",
      "[160]\ttrain-auc:0.682383\tvalid-auc:0.661457\n",
      "[180]\ttrain-auc:0.685107\tvalid-auc:0.66233\n",
      "[200]\ttrain-auc:0.687587\tvalid-auc:0.66289\n",
      "[220]\ttrain-auc:0.689883\tvalid-auc:0.663462\n",
      "[240]\ttrain-auc:0.692156\tvalid-auc:0.664154\n",
      "[260]\ttrain-auc:0.694082\tvalid-auc:0.66481\n",
      "[280]\ttrain-auc:0.696226\tvalid-auc:0.665387\n",
      "[299]\ttrain-auc:0.697958\tvalid-auc:0.665664\n"
     ]
    }
   ],
   "source": [
    "params = {'booster' : \"gbtree\", 'max_depth':5, 'eta':0.04, 'silent':1, 'objective':'binary:logistic', 'colsample_bytree':0.6, 'min_child_weight':2, 'gamma':0.6, \\\n",
    "         'subsample':0.9, 'colsample_bytree':0.6, 'scale_pos_weight':5, 'eval_metric':'auc', 'lambda':0.3, 'max_delta_step':3, 'max_bin':400, 'random_state':37}\n",
    "dtrain = xgb.DMatrix(X_train.values, label=y_train.values)\n",
    "dtest = xgb.DMatrix(X_test.values, label=y_test.values)\n",
    "\n",
    "watchlist = [(dtrain, 'train'), (dtest, 'valid')]\n",
    "nbr = 300\n",
    "esr = 10\n",
    "model = xgb.train(params, dtrain, nbr, watchlist, maximize=False, early_stopping_rounds = esr, verbose_eval=20)"
   ]
  },
  {
   "cell_type": "code",
   "execution_count": 201,
   "metadata": {},
   "outputs": [],
   "source": [
    "# prediction on test data\n",
    "X_TEST = data_test[predictors]\n",
    "X_TEST = pd.get_dummies(X_TEST, columns=dummify)\n",
    "Y_TEST = data_test[target]\n",
    "x_test = xgb.DMatrix(X_TEST.values)\n",
    "pred_test = model.predict(x_test)"
   ]
  },
  {
   "cell_type": "code",
   "execution_count": 208,
   "metadata": {},
   "outputs": [],
   "source": [
    "submission = pd.DataFrame({\"UniqueID\": test[\"UniqueID\"], \"loan_default\": pred_test})\n",
    "submission.to_csv('/home/f/DS/Compete/L&T_Fin_Hack/submission.csv', index=False)"
   ]
  },
  {
   "cell_type": "code",
   "execution_count": null,
   "metadata": {},
   "outputs": [],
   "source": []
  },
  {
   "cell_type": "code",
   "execution_count": null,
   "metadata": {},
   "outputs": [],
   "source": []
  }
 ],
 "metadata": {
  "kernelspec": {
   "display_name": "Python 3",
   "language": "python",
   "name": "python3"
  },
  "language_info": {
   "codemirror_mode": {
    "name": "ipython",
    "version": 3
   },
   "file_extension": ".py",
   "mimetype": "text/x-python",
   "name": "python",
   "nbconvert_exporter": "python",
   "pygments_lexer": "ipython3",
   "version": "3.6.7"
  }
 },
 "nbformat": 4,
 "nbformat_minor": 2
}
